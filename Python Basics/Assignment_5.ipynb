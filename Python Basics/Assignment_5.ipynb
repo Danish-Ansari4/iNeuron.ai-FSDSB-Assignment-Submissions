{
 "cells": [
  {
   "cell_type": "markdown",
   "metadata": {},
   "source": [
    "# [iNeuron - Full Stack Data Science Bootcamp](https://learn.ineuron.ai/course/Full-Stack-Data-Science-Bootcamp/)\n",
    "\n",
    "### [Python Basics - Assignment 5](https://drive.google.com/file/d/1fM3fWLFqQAgiOa3YY41ZRlEFzqA3vorL/view)\n",
    "<pre>\n",
    "Student: Pusapati Surya                                                                             Date: 07-June-2022\n",
    "</pre>\n",
    "***"
   ]
  },
  {
   "cell_type": "markdown",
   "metadata": {},
   "source": [
    "**Question 01**\n",
    "\n",
    "#### What does an empty dictionary&#39;s code look like?\n",
    "\n",
    "--\n",
    "\n",
    "The dictionary is one of the built-in data types in Python. An empty dictionary can be created in two possible ways, (1) A pair of braces `{}`, (2) In-built function `dict()` with no input(s). `{}` as output represents an empty dictionary."
   ]
  },
  {
   "cell_type": "code",
   "execution_count": 1,
   "metadata": {},
   "outputs": [
    {
     "data": {
      "text/plain": [
       "{}"
      ]
     },
     "execution_count": 1,
     "metadata": {},
     "output_type": "execute_result"
    }
   ],
   "source": [
    "{}"
   ]
  },
  {
   "cell_type": "code",
   "execution_count": 2,
   "metadata": {},
   "outputs": [
    {
     "data": {
      "text/plain": [
       "{}"
      ]
     },
     "execution_count": 2,
     "metadata": {},
     "output_type": "execute_result"
    }
   ],
   "source": [
    "dict()"
   ]
  },
  {
   "cell_type": "markdown",
   "metadata": {},
   "source": [
    "***"
   ]
  },
  {
   "cell_type": "markdown",
   "metadata": {},
   "source": [
    "**Question 02**\n",
    "\n",
    "#### What is the value of a dictionary value with the key &#39;foo&#39; and the value 42?\n",
    "\n",
    "--"
   ]
  },
  {
   "cell_type": "code",
   "execution_count": 3,
   "metadata": {},
   "outputs": [
    {
     "data": {
      "text/plain": [
       "{'foo': 42}"
      ]
     },
     "execution_count": 3,
     "metadata": {},
     "output_type": "execute_result"
    }
   ],
   "source": [
    "a = {'foo':42}\n",
    "a"
   ]
  },
  {
   "cell_type": "code",
   "execution_count": 4,
   "metadata": {},
   "outputs": [
    {
     "data": {
      "text/plain": [
       "42"
      ]
     },
     "execution_count": 4,
     "metadata": {},
     "output_type": "execute_result"
    }
   ],
   "source": [
    "a['foo']"
   ]
  },
  {
   "cell_type": "markdown",
   "metadata": {},
   "source": [
    "***"
   ]
  },
  {
   "cell_type": "markdown",
   "metadata": {},
   "source": [
    "**Question 03**\n",
    "\n",
    "#### What is the most significant distinction between a dictionary and a list?\n",
    "\n",
    "--\n",
    "\n",
    "The main difference lies in order and syntax itself. The `list` consists of ordered data values referred by index values followed by the syntax `[]`. But `dictionary` has unordered data values referred to by keys and has syntax `{}`."
   ]
  },
  {
   "cell_type": "markdown",
   "metadata": {},
   "source": [
    "***"
   ]
  },
  {
   "cell_type": "markdown",
   "metadata": {},
   "source": [
    "**Question 04**\n",
    "\n",
    "#### What happens if you try to access spam[&#39;foo&#39;] if spam is {&#39;bar&#39;: 100}?\n",
    "\n",
    "--\n",
    "\n",
    " `spam` has no such key `'foo'`, so we will get `KeyError` error."
   ]
  },
  {
   "cell_type": "code",
   "execution_count": 5,
   "metadata": {},
   "outputs": [
    {
     "data": {
      "text/plain": [
       "{'bar': 100}"
      ]
     },
     "execution_count": 5,
     "metadata": {},
     "output_type": "execute_result"
    }
   ],
   "source": [
    "spam = {'bar':100}\n",
    "spam"
   ]
  },
  {
   "cell_type": "code",
   "execution_count": 6,
   "metadata": {},
   "outputs": [
    {
     "ename": "KeyError",
     "evalue": "'foo'",
     "output_type": "error",
     "traceback": [
      "\u001b[1;31m---------------------------------------------------------------------------\u001b[0m",
      "\u001b[1;31mKeyError\u001b[0m                                  Traceback (most recent call last)",
      "\u001b[1;32m<ipython-input-6-9b5a94d1de8d>\u001b[0m in \u001b[0;36m<module>\u001b[1;34m\u001b[0m\n\u001b[1;32m----> 1\u001b[1;33m \u001b[0mspam\u001b[0m\u001b[1;33m[\u001b[0m\u001b[1;34m'foo'\u001b[0m\u001b[1;33m]\u001b[0m\u001b[1;33m\u001b[0m\u001b[1;33m\u001b[0m\u001b[0m\n\u001b[0m",
      "\u001b[1;31mKeyError\u001b[0m: 'foo'"
     ]
    }
   ],
   "source": [
    "spam['foo']"
   ]
  },
  {
   "cell_type": "markdown",
   "metadata": {},
   "source": [
    "***"
   ]
  },
  {
   "cell_type": "markdown",
   "metadata": {},
   "source": [
    "**Question 05**\n",
    "\n",
    "#### If a dictionary is stored in spam, what is the difference between the expressions 'cat' in spam and 'cat' in spam.keys()?\n",
    "\n",
    "--\n",
    "\n",
    "For Q05, let `spam = {\"cat\": 100}`.<br><br>Dictionary is a set of *`key`* : *`value`* pairs. As `'cat'` in `spam` refers to *`key`* there will be no difference between the expression `'cat'` and `'cat'` in `spam.keys()`."
   ]
  },
  {
   "cell_type": "code",
   "execution_count": 7,
   "metadata": {},
   "outputs": [
    {
     "data": {
      "text/plain": [
       "{'cat': 100}"
      ]
     },
     "execution_count": 7,
     "metadata": {},
     "output_type": "execute_result"
    }
   ],
   "source": [
    "spam = {'cat':100}\n",
    "spam"
   ]
  },
  {
   "cell_type": "code",
   "execution_count": 8,
   "metadata": {},
   "outputs": [
    {
     "data": {
      "text/plain": [
       "dict_keys(['cat'])"
      ]
     },
     "execution_count": 8,
     "metadata": {},
     "output_type": "execute_result"
    }
   ],
   "source": [
    "spam.keys()"
   ]
  },
  {
   "cell_type": "markdown",
   "metadata": {},
   "source": [
    "***"
   ]
  },
  {
   "cell_type": "markdown",
   "metadata": {},
   "source": [
    "**Question 06**\n",
    "\n",
    "#### If a dictionary is stored in spam, what is the difference between the expressions &#39;cat&#39; in spam and &#39;cat&#39; in spam.values()?\n",
    "\n",
    "--\n",
    "\n",
    "For Q06, let `spam = {100: \"cat\"}`.<br><br>Dictionary is a set of *`key`* : *`value`* pairs. As `'cat'` in `spam` refers to *`value`* there will be no difference between the expression `'cat'` and `'cat'` in `spam.values()`."
   ]
  },
  {
   "cell_type": "code",
   "execution_count": 9,
   "metadata": {},
   "outputs": [
    {
     "data": {
      "text/plain": [
       "'cat'"
      ]
     },
     "execution_count": 9,
     "metadata": {},
     "output_type": "execute_result"
    }
   ],
   "source": [
    "spam = {100: \"cat\"}\n",
    "spam[100]"
   ]
  },
  {
   "cell_type": "code",
   "execution_count": 10,
   "metadata": {},
   "outputs": [
    {
     "data": {
      "text/plain": [
       "dict_values(['cat'])"
      ]
     },
     "execution_count": 10,
     "metadata": {},
     "output_type": "execute_result"
    }
   ],
   "source": [
    "spam.values()"
   ]
  },
  {
   "cell_type": "markdown",
   "metadata": {},
   "source": [
    "***"
   ]
  },
  {
   "cell_type": "markdown",
   "metadata": {},
   "source": [
    "**Question 07**\n",
    "\n",
    "#### What is a shortcut for the following code?<br><br>if &#39;color&#39; not in spam:<br><br>spam[&#39;color&#39;] = &#39;black&#39;\n",
    "\n",
    "--\n",
    "\n",
    "Built-in method `setdefault()` returns the *`value`* of the specified *`key`*. If the *`key`* does not exist, it will insert the *`key`* along with *`value`* specified in the function."
   ]
  },
  {
   "cell_type": "code",
   "execution_count": 11,
   "metadata": {},
   "outputs": [
    {
     "data": {
      "text/plain": [
       "{100: 'cat'}"
      ]
     },
     "execution_count": 11,
     "metadata": {},
     "output_type": "execute_result"
    }
   ],
   "source": [
    "spam"
   ]
  },
  {
   "cell_type": "code",
   "execution_count": 12,
   "metadata": {},
   "outputs": [
    {
     "data": {
      "text/plain": [
       "'black'"
      ]
     },
     "execution_count": 12,
     "metadata": {},
     "output_type": "execute_result"
    }
   ],
   "source": [
    "spam.setdefault('color', 'black')"
   ]
  },
  {
   "cell_type": "code",
   "execution_count": 13,
   "metadata": {},
   "outputs": [
    {
     "data": {
      "text/plain": [
       "{100: 'cat', 'color': 'black'}"
      ]
     },
     "execution_count": 13,
     "metadata": {},
     "output_type": "execute_result"
    }
   ],
   "source": [
    "spam"
   ]
  },
  {
   "cell_type": "markdown",
   "metadata": {},
   "source": [
    "***"
   ]
  },
  {
   "cell_type": "markdown",
   "metadata": {},
   "source": [
    "**Question 08**\n",
    "\n",
    "#### How do you &quot;pretty print&quot; dictionary values using which module and function?\n",
    "\n",
    "--\n",
    "\n",
    "`pprint.pprint()`<br>`json.dumps()`<br>`yaml.dump()`<br>Check use cases↴"
   ]
  },
  {
   "cell_type": "code",
   "execution_count": 14,
   "metadata": {},
   "outputs": [
    {
     "data": {
      "text/plain": [
       "[{'Name': 'Arun', 'Age': '25', 'Country': 'Palo'},\n",
       " {'Name': 'Ganesh', 'Age': '26', 'Country': 'Spain'},\n",
       " {'Name': 'Adnan', 'Age': '19', 'Country': 'UK'},\n",
       " {'Name': 'Raju', 'Age': '25', 'Country': 'Japan'}]"
      ]
     },
     "metadata": {},
     "output_type": "display_data"
    }
   ],
   "source": [
    "dict_ = [\n",
    "  {'Name': 'Arun', 'Age': '25', 'Country': 'Palo'},\n",
    "  {'Name': 'Ganesh', 'Age': '26', 'Country': 'Spain'},\n",
    "  {'Name': 'Adnan', 'Age': '19', 'Country': 'UK'},\n",
    "  {'Name': 'Raju', 'Age': '25', 'Country': 'Japan'}\n",
    "]\n",
    "# Method 00: display()\n",
    "display(dict_)"
   ]
  },
  {
   "cell_type": "code",
   "execution_count": 15,
   "metadata": {},
   "outputs": [
    {
     "name": "stdout",
     "output_type": "stream",
     "text": [
      "[{'Age': '25', 'Country': 'Palo', 'Name': 'Arun'},\n",
      " {'Age': '26', 'Country': 'Spain', 'Name': 'Ganesh'},\n",
      " {'Age': '19', 'Country': 'UK', 'Name': 'Adnan'},\n",
      " {'Age': '25', 'Country': 'Japan', 'Name': 'Raju'}]\n"
     ]
    }
   ],
   "source": [
    "# Method 01: pprint.pprint()\n",
    "import pprint\n",
    "pprint.pprint(dict_)"
   ]
  },
  {
   "cell_type": "code",
   "execution_count": 16,
   "metadata": {},
   "outputs": [
    {
     "name": "stdout",
     "output_type": "stream",
     "text": [
      "[\n",
      " {\n",
      "  \"Name\": \"Arun\",\n",
      "  \"Age\": \"25\",\n",
      "  \"Country\": \"Palo\"\n",
      " },\n",
      " {\n",
      "  \"Name\": \"Ganesh\",\n",
      "  \"Age\": \"26\",\n",
      "  \"Country\": \"Spain\"\n",
      " },\n",
      " {\n",
      "  \"Name\": \"Adnan\",\n",
      "  \"Age\": \"19\",\n",
      "  \"Country\": \"UK\"\n",
      " },\n",
      " {\n",
      "  \"Name\": \"Raju\",\n",
      "  \"Age\": \"25\",\n",
      "  \"Country\": \"Japan\"\n",
      " }\n",
      "]\n"
     ]
    }
   ],
   "source": [
    "# Method 02: json.dumps()\n",
    "import json\n",
    "print(json.dumps(dict_, indent = 1))"
   ]
  },
  {
   "cell_type": "code",
   "execution_count": 17,
   "metadata": {},
   "outputs": [
    {
     "name": "stdout",
     "output_type": "stream",
     "text": [
      "- Age: '25'\n",
      "  Country: Palo\n",
      "  Name: Arun\n",
      "- Age: '26'\n",
      "  Country: Spain\n",
      "  Name: Ganesh\n",
      "- Age: '19'\n",
      "  Country: UK\n",
      "  Name: Adnan\n",
      "- Age: '25'\n",
      "  Country: Japan\n",
      "  Name: Raju\n",
      "\n"
     ]
    }
   ],
   "source": [
    "# Method 03: yaml.dump()\n",
    "import yaml\n",
    "print(yaml.dump(dict_))"
   ]
  },
  {
   "cell_type": "markdown",
   "metadata": {},
   "source": [
    "***"
   ]
  }
 ],
 "metadata": {
  "kernelspec": {
   "display_name": "Python 3",
   "language": "python",
   "name": "python3"
  },
  "language_info": {
   "codemirror_mode": {
    "name": "ipython",
    "version": 3
   },
   "file_extension": ".py",
   "mimetype": "text/x-python",
   "name": "python",
   "nbconvert_exporter": "python",
   "pygments_lexer": "ipython3",
   "version": "3.7.4"
  }
 },
 "nbformat": 4,
 "nbformat_minor": 4
}
