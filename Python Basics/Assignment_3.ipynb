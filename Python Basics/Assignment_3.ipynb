{
 "cells": [
  {
   "cell_type": "markdown",
   "metadata": {},
   "source": [
    "# [iNeuron - Full Stack Data Science Bootcamp](https://learn.ineuron.ai/course/Full-Stack-Data-Science-Bootcamp/)\n",
    "\n",
    "### [Python Basics - Assignment 3](https://drive.google.com/file/d/1vU3MvFrIILi8Ma57Ft0MzF_PzYxoIH5Y/view)\n",
    "<pre>\n",
    "Student: Pusapati Surya                                                                             Date: 04-June-2022\n",
    "</pre>\n",
    "***"
   ]
  },
  {
   "cell_type": "markdown",
   "metadata": {},
   "source": [
    "**Question 01**\n",
    "\n",
    "#### Why are functions advantageous to have in your programs?\n",
    "\n",
    "--\n",
    "\n",
    "The main advantage of using a function is reusability, so:\n",
    "* Onces defined function can be recalled several times. This will potentionally reduces repetition of code.\n",
    "* Makes the overall program readable and easy to modify.\n",
    "* A complex problem can be simplified into sections."
   ]
  },
  {
   "cell_type": "markdown",
   "metadata": {},
   "source": [
    "***"
   ]
  },
  {
   "cell_type": "markdown",
   "metadata": {},
   "source": [
    "**Question 02**\n",
    "\n",
    "#### When does the code in a function run: when it's specified or when it's called?\n",
    "\n",
    "--\n",
    "\n",
    "A function only works when its called in programed format. Moreover, A function will only be tested for syntax errors during the defination (i.e. when using `def`). The real debuging takes place onces the function is called."
   ]
  },
  {
   "cell_type": "markdown",
   "metadata": {},
   "source": [
    "***"
   ]
  },
  {
   "cell_type": "markdown",
   "metadata": {},
   "source": [
    "**Question 03**\n",
    "\n",
    "#### What statement creates a function?\n",
    "\n",
    "--\n",
    "\n",
    "In python `def` is the keyword used to define a function. The structure of the code must provided right after the defination."
   ]
  },
  {
   "cell_type": "markdown",
   "metadata": {},
   "source": [
    "***"
   ]
  },
  {
   "cell_type": "markdown",
   "metadata": {},
   "source": [
    "**Question 04**\n",
    "\n",
    "#### What is the difference between a function and a function call?\n",
    "\n",
    "--\n",
    "\n",
    "In a function, we put into code the rules and structure to the program into a recallable function name. During a function call, the rules are executed and the results are presented as described. Have a look the following example↴"
   ]
  },
  {
   "cell_type": "code",
   "execution_count": 1,
   "metadata": {},
   "outputs": [],
   "source": [
    "# define a function\n",
    "def square():\n",
    "    # hollow square pattern\n",
    "    size = 7\n",
    "    for i in range(size):\n",
    "        for j in range(size):\n",
    "            # print * completely in first and last row\n",
    "            # print * only in first and last position in other rows\n",
    "            if i == 0 or i == size - 1 or j == 0 or j == size - 1:\n",
    "                print('*', end='')\n",
    "            else:\n",
    "                print(' ', end='')\n",
    "        print()"
   ]
  },
  {
   "cell_type": "code",
   "execution_count": 2,
   "metadata": {},
   "outputs": [
    {
     "name": "stdout",
     "output_type": "stream",
     "text": [
      "*******\n",
      "*     *\n",
      "*     *\n",
      "*     *\n",
      "*     *\n",
      "*     *\n",
      "*******\n"
     ]
    }
   ],
   "source": [
    "# call a function\n",
    "square()"
   ]
  },
  {
   "cell_type": "markdown",
   "metadata": {},
   "source": [
    "[Ref: Pattern Program in Python](https://www.tutorialstonight.com/python/pattern-program-in-python.php)\n",
    "***"
   ]
  },
  {
   "cell_type": "markdown",
   "metadata": {},
   "source": [
    "**Question 05**\n",
    "\n",
    "#### How many global scopes are there in a Python program? How many local scopes?\n",
    "\n",
    "--\n",
    "\n",
    "There will be only one `global` and one `local` scope for each program execution."
   ]
  },
  {
   "cell_type": "markdown",
   "metadata": {},
   "source": [
    "***"
   ]
  },
  {
   "cell_type": "markdown",
   "metadata": {},
   "source": [
    "**Question 06**\n",
    "\n",
    "#### What happens to variables in a local scope when the function call returns?\n",
    "\n",
    "--\n",
    "\n",
    "All local scope variables will be forgotten. if `return` is used in the end line, local scope can be assigned to global scope using `return`. Right after the function `return` code was executed local scope variables will be forgotten."
   ]
  },
  {
   "cell_type": "markdown",
   "metadata": {},
   "source": [
    "***"
   ]
  },
  {
   "cell_type": "markdown",
   "metadata": {},
   "source": [
    "**Question 07**\n",
    "\n",
    "#### What is the concept of a return value? Is it possible to have a return value in an expression?\n",
    "\n",
    "--\n",
    "\n",
    "`return` keyword is used to specify which variables, values, and/or expression to return as gloabe scope. No, `return` cannot be used inside an expression. For a perfect use case, refer the °C to °F convertion function below↴"
   ]
  },
  {
   "cell_type": "code",
   "execution_count": 3,
   "metadata": {},
   "outputs": [],
   "source": [
    "def CtoF(C):\n",
    "    return (C * 9/5) + 32 # expression"
   ]
  },
  {
   "cell_type": "code",
   "execution_count": 4,
   "metadata": {},
   "outputs": [
    {
     "data": {
      "text/plain": [
       "-40.0"
      ]
     },
     "execution_count": 4,
     "metadata": {},
     "output_type": "execute_result"
    }
   ],
   "source": [
    "CtoF(-40)"
   ]
  },
  {
   "cell_type": "markdown",
   "metadata": {},
   "source": [
    "***"
   ]
  },
  {
   "cell_type": "markdown",
   "metadata": {},
   "source": [
    "**Question 08**\n",
    "\n",
    "#### If a function does not have a return statemenet, what is the return value of a call to that function?\n",
    "\n",
    "--\n",
    "\n",
    "If there is no `return` keyword used in a defined function, then the fumction returns `None`. "
   ]
  },
  {
   "cell_type": "markdown",
   "metadata": {},
   "source": [
    "***"
   ]
  },
  {
   "cell_type": "markdown",
   "metadata": {},
   "source": [
    "**Question 09**\n",
    "\n",
    "#### How do you make a function variable refer to the global variable?\n",
    "\n",
    "--\n",
    "\n",
    "By using keyword `global`, local scope can be referred inside a function. Example↴"
   ]
  },
  {
   "cell_type": "code",
   "execution_count": 5,
   "metadata": {},
   "outputs": [
    {
     "name": "stdout",
     "output_type": "stream",
     "text": [
      "new\n"
     ]
    }
   ],
   "source": [
    "x = 'old'\n",
    "\n",
    "def my_fun():\n",
    "    global x\n",
    "    if x == 'old':\n",
    "        x = 'new'\n",
    "    \n",
    "my_fun()\n",
    "\n",
    "print(x)"
   ]
  },
  {
   "cell_type": "markdown",
   "metadata": {},
   "source": [
    "***"
   ]
  },
  {
   "cell_type": "markdown",
   "metadata": {},
   "source": [
    "**Question 10**\n",
    "\n",
    "#### What is the data type of None?\n",
    "\n",
    "--\n",
    "\n",
    "The data-type of `None` is `NoneType`."
   ]
  },
  {
   "cell_type": "code",
   "execution_count": 6,
   "metadata": {},
   "outputs": [
    {
     "data": {
      "text/plain": [
       "NoneType"
      ]
     },
     "execution_count": 6,
     "metadata": {},
     "output_type": "execute_result"
    }
   ],
   "source": [
    "type(None)"
   ]
  },
  {
   "cell_type": "markdown",
   "metadata": {},
   "source": [
    "***"
   ]
  },
  {
   "cell_type": "markdown",
   "metadata": {},
   "source": [
    "**Question 11**\n",
    "\n",
    "#### What does the sentence import areallyourpetsnamederic do?\n",
    "\n",
    "--\n",
    "\n",
    "python searches for module `areallyourpetsnamederic` in the package. If not found the following error pops up↴"
   ]
  },
  {
   "cell_type": "code",
   "execution_count": 7,
   "metadata": {},
   "outputs": [
    {
     "ename": "ModuleNotFoundError",
     "evalue": "No module named 'areallyourpetsnamederic'",
     "output_type": "error",
     "traceback": [
      "\u001b[1;31m---------------------------------------------------------------------------\u001b[0m",
      "\u001b[1;31mModuleNotFoundError\u001b[0m                       Traceback (most recent call last)",
      "\u001b[1;32m<ipython-input-7-b1ea9cb2228f>\u001b[0m in \u001b[0;36m<module>\u001b[1;34m\u001b[0m\n\u001b[1;32m----> 1\u001b[1;33m \u001b[1;32mimport\u001b[0m \u001b[0mareallyourpetsnamederic\u001b[0m\u001b[1;33m\u001b[0m\u001b[1;33m\u001b[0m\u001b[0m\n\u001b[0m",
      "\u001b[1;31mModuleNotFoundError\u001b[0m: No module named 'areallyourpetsnamederic'"
     ]
    }
   ],
   "source": [
    "import areallyourpetsnamederic"
   ]
  },
  {
   "cell_type": "markdown",
   "metadata": {},
   "source": [
    "***"
   ]
  },
  {
   "cell_type": "markdown",
   "metadata": {},
   "source": [
    "**Question 12**\n",
    "\n",
    "#### If you had a bacon() feature in a spam module, what would you call it after importing spam?\n",
    "\n",
    "--\n",
    "\n",
    "``import spam``\n",
    "\n",
    "``spam.bacon()``\n",
    "\n",
    "or\n",
    "\n",
    "``from spam import *``\n",
    "\n",
    "``bacon()``"
   ]
  },
  {
   "cell_type": "markdown",
   "metadata": {},
   "source": [
    "***"
   ]
  },
  {
   "cell_type": "markdown",
   "metadata": {},
   "source": [
    "**Question 13**\n",
    "\n",
    "#### What can you do to save a programme from crashing if it encounters an error?\n",
    "\n",
    "--\n",
    "\n",
    "Use `try` clause at the code which will trigger you an error. A use case was shown in next question."
   ]
  },
  {
   "cell_type": "markdown",
   "metadata": {},
   "source": [
    "***"
   ]
  },
  {
   "cell_type": "markdown",
   "metadata": {},
   "source": [
    "**Question 14**\n",
    "\n",
    "#### What is the purpose of the try clause? What is the purpose of the except clause?\n",
    "\n",
    "--\n",
    "\n",
    "The main advantage of using `try` is not to interrupt the execution process in case of any error. `try` is extensivly used in long debugging of code. `except` is used to check for specific error type, similar to `if`."
   ]
  },
  {
   "cell_type": "code",
   "execution_count": 8,
   "metadata": {},
   "outputs": [
    {
     "name": "stdout",
     "output_type": "stream",
     "text": [
      "Error: module not found\n",
      "- Passed 'try'\n"
     ]
    }
   ],
   "source": [
    "try:                                # check for errors\n",
    "    import areallyourpetsnamederic\n",
    "\n",
    "except ModuleNotFoundError:         # check if the error is ModuleNotFoundError\n",
    "    print('Error: module not found')\n",
    "else:                               # if no except cases were satisfied\n",
    "    print('Error: <not sure>')\n",
    "finally:                            # Print this if 'try' finishes the execution. Even if there is no error\n",
    "    print(\"- Passed 'try'\")"
   ]
  },
  {
   "cell_type": "markdown",
   "metadata": {},
   "source": [
    "***"
   ]
  }
 ],
 "metadata": {
  "kernelspec": {
   "display_name": "Python 3",
   "language": "python",
   "name": "python3"
  },
  "language_info": {
   "codemirror_mode": {
    "name": "ipython",
    "version": 3
   },
   "file_extension": ".py",
   "mimetype": "text/x-python",
   "name": "python",
   "nbconvert_exporter": "python",
   "pygments_lexer": "ipython3",
   "version": "3.7.4"
  }
 },
 "nbformat": 4,
 "nbformat_minor": 4
}
