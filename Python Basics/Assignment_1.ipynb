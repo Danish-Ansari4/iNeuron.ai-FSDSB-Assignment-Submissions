{
 "cells": [
  {
   "cell_type": "markdown",
   "metadata": {},
   "source": [
    "# [iNeuron - Full Stack Data Science Bootcamp](https://learn.ineuron.ai/course/Full-Stack-Data-Science-Bootcamp/)\n",
    "\n",
    "### [Python Basics - Assignment 1](https://drive.google.com/file/d/1RjQBjq90BeqNuon_JUlrih7Tnda732cs/view)\n",
    "<pre>\n",
    "Student: Pusapati Surya                                                                             Date: 26-May-2022\n",
    "</pre>\n",
    "***"
   ]
  },
  {
   "cell_type": "markdown",
   "metadata": {},
   "source": [
    "**Question 01**\n",
    "\n",
    "#### In the below elements which of them are values or an expression? eg:- values can be integer or string and expressions will be mathematical operators.\n",
    "\n",
    "--\n",
    "\n",
    "| Elements  |  Labels |\n",
    "| :--------- | -------: |\n",
    "| *  | Expression |\n",
    "|'hello'  |  Value |\n",
    "| -87.8 | Value|\n",
    "| -  | Expression |\n",
    "| /  | Expression |\n",
    "| + | Expression |\n",
    "| 6 | Value |\n",
    "\n",
    "***"
   ]
  },
  {
   "cell_type": "markdown",
   "metadata": {},
   "source": [
    "**Question 02**\n",
    "\n",
    "#### What is the difference between string and variable?\n",
    "\n",
    "--\n",
    "\n",
    "**Variable** is a label name used to store data values. Variables can contain a wide range of data-types and string is one of them. **string** (a.k.a ``str``) is a data-type which contains a collection of characters assigned in format of ``\" \"`` or ``' '``. . In the below example, `A` is a varaible which contains my name. As my name is a collection of characters mentioned inbetween ``\" \"``, the data-type of ``A`` will be ``str``.\n",
    " Moreover, ``str`` can also contain single character and also accepts wide collection of special characters, such as  \"😃\".\n"
   ]
  },
  {
   "cell_type": "code",
   "execution_count": 1,
   "metadata": {},
   "outputs": [
    {
     "data": {
      "text/plain": [
       "str"
      ]
     },
     "execution_count": 1,
     "metadata": {},
     "output_type": "execute_result"
    }
   ],
   "source": [
    "A = \"Surya\"\n",
    "type(A)"
   ]
  },
  {
   "cell_type": "code",
   "execution_count": 2,
   "metadata": {},
   "outputs": [
    {
     "data": {
      "text/plain": [
       "str"
      ]
     },
     "execution_count": 2,
     "metadata": {},
     "output_type": "execute_result"
    }
   ],
   "source": [
    "type(\"😃\")"
   ]
  },
  {
   "cell_type": "markdown",
   "metadata": {},
   "source": [
    "***"
   ]
  },
  {
   "cell_type": "markdown",
   "metadata": {},
   "source": [
    "**Question 03**\n",
    "\n",
    "#### Describe three different data types.\n",
    "\n",
    "--\n",
    "\n",
    "Python programming by default comes with different data-types, such as ``int`` ``float`` ``complex`` ``bool`` ``bytes`` ``bytearray`` ``memoryview`` ``str`` ``list`` ``dict`` ``tuple`` ``range`` ``set`` ``fozenset`` ``NoneType``\n",
    "\n",
    "I will explain different numerical data types available in Python, which are:<br><br>``int`` is used for integers. Which are numerical values ranging from -ထ to +ထ.<br>``float`` is similar to ``int`` but has decimal values.<br>``complex`` is a data-type for imaginary numbers.\n",
    "\n",
    "Examples are mentioned belows."
   ]
  },
  {
   "cell_type": "code",
   "execution_count": 3,
   "metadata": {},
   "outputs": [
    {
     "name": "stdout",
     "output_type": "stream",
     "text": [
      "65535\n"
     ]
    },
    {
     "data": {
      "text/plain": [
       "int"
      ]
     },
     "execution_count": 3,
     "metadata": {},
     "output_type": "execute_result"
    }
   ],
   "source": [
    "x = 65535\n",
    "print(x)\n",
    "type(x)"
   ]
  },
  {
   "cell_type": "markdown",
   "metadata": {},
   "source": [
    "x = 57e-2\n",
    "print(x)\n",
    "type(x)"
   ]
  },
  {
   "cell_type": "code",
   "execution_count": 4,
   "metadata": {},
   "outputs": [
    {
     "name": "stdout",
     "output_type": "stream",
     "text": [
      "(1+5j)\n"
     ]
    },
    {
     "data": {
      "text/plain": [
       "complex"
      ]
     },
     "execution_count": 4,
     "metadata": {},
     "output_type": "execute_result"
    }
   ],
   "source": [
    "x = 1+5j\n",
    "print(x)\n",
    "type(x)"
   ]
  },
  {
   "cell_type": "markdown",
   "metadata": {},
   "source": [
    "\n",
    "***"
   ]
  },
  {
   "cell_type": "markdown",
   "metadata": {},
   "source": [
    "**Question 04**\n",
    "\n",
    "#### What is an expression made up of? What do all expressions do?\n",
    "\n",
    "--\n",
    "\n",
    "A sequence of operators, variables, values are refered as expression. The main purpose of an expression is to execute the sequence and forward the results. One of the usage of expression is to execute numerical calculation. As an example lets addition another complex number ``10+6j`` to ``x``. ``x = 1+5j`` is defined in previous example. In this expression ``x`` is a varaible, ``+`` is a operator, and ``10 + 6j`` is a value. So the output is ``1 + 10 = 11`` and ``5j + 6j = 11j``.\n"
   ]
  },
  {
   "cell_type": "code",
   "execution_count": 5,
   "metadata": {},
   "outputs": [
    {
     "data": {
      "text/plain": [
       "(11+11j)"
      ]
     },
     "execution_count": 5,
     "metadata": {},
     "output_type": "execute_result"
    }
   ],
   "source": [
    "x + 10+6j"
   ]
  },
  {
   "cell_type": "markdown",
   "metadata": {},
   "source": [
    "\n",
    "***"
   ]
  },
  {
   "cell_type": "markdown",
   "metadata": {},
   "source": [
    "**Question 05**\n",
    "\n",
    "What is the difference between an expression and a statement? for instance ``spam = 10``\n",
    "\n",
    "--\n",
    "\n",
    "As mentioned before, an expression is a sequence of operators, variables, and values. In expressions we ask the compiler what the results would be. Whereas in statements, we define a command to perform, which can influence further commands. Moreover, Statements do not necessarily display results, Therefore, ``spam = 10`` will be a statement.\n",
    "\n",
    "***"
   ]
  },
  {
   "cell_type": "markdown",
   "metadata": {},
   "source": [
    "**Question 06**\n",
    "\n",
    "#### After running the following code, what does the variable bacon contain?\n",
    "\n",
    "``bacon = 22\n",
    "bacon + 1``\n",
    "\n",
    "--\n"
   ]
  },
  {
   "cell_type": "code",
   "execution_count": 6,
   "metadata": {},
   "outputs": [
    {
     "data": {
      "text/plain": [
       "22"
      ]
     },
     "execution_count": 6,
     "metadata": {},
     "output_type": "execute_result"
    }
   ],
   "source": [
    "bacon = 22\n",
    "bacon"
   ]
  },
  {
   "cell_type": "code",
   "execution_count": 7,
   "metadata": {},
   "outputs": [
    {
     "data": {
      "text/plain": [
       "23"
      ]
     },
     "execution_count": 7,
     "metadata": {},
     "output_type": "execute_result"
    }
   ],
   "source": [
    "bacon + 1"
   ]
  },
  {
   "cell_type": "markdown",
   "metadata": {},
   "source": [
    "``bacon`` will be ``22``.\n",
    "\n",
    "***"
   ]
  },
  {
   "cell_type": "markdown",
   "metadata": {},
   "source": [
    "**Question 07**\n",
    "\n",
    "#### What should the values of the following two terms be?\n",
    "\n",
    "``'spam' + 'spamspam'``<br>\n",
    "``'spam' * 3``\n",
    "\n",
    "--"
   ]
  },
  {
   "cell_type": "code",
   "execution_count": 8,
   "metadata": {},
   "outputs": [
    {
     "name": "stdout",
     "output_type": "stream",
     "text": [
      "spamspamspam\n"
     ]
    }
   ],
   "source": [
    "print('spam' + 'spamspam')"
   ]
  },
  {
   "cell_type": "code",
   "execution_count": 9,
   "metadata": {},
   "outputs": [
    {
     "name": "stdout",
     "output_type": "stream",
     "text": [
      "spamspamspam\n"
     ]
    }
   ],
   "source": [
    "print('spam' * 3)"
   ]
  },
  {
   "cell_type": "markdown",
   "metadata": {},
   "source": [
    "***"
   ]
  },
  {
   "cell_type": "markdown",
   "metadata": {},
   "source": [
    "**Question 08**\n",
    "\n",
    "#### Why is `eggs` a valid variable name while `100` is invalid?\n",
    "\n",
    "--\n",
    "\n",
    "There are specific rules to set a variable names in Python. One such rule is, the first character in variable names cannot be number. For that reason ``100`` cannot be used as a variable name.\n"
   ]
  },
  {
   "cell_type": "code",
   "execution_count": 10,
   "metadata": {},
   "outputs": [
    {
     "ename": "SyntaxError",
     "evalue": "can't assign to literal (<ipython-input-10-28e2dfa8d5e0>, line 1)",
     "output_type": "error",
     "traceback": [
      "\u001b[1;36m  File \u001b[1;32m\"<ipython-input-10-28e2dfa8d5e0>\"\u001b[1;36m, line \u001b[1;32m1\u001b[0m\n\u001b[1;33m    100 = b'10010' # Invaild variable assignmnet\u001b[0m\n\u001b[1;37m                                                ^\u001b[0m\n\u001b[1;31mSyntaxError\u001b[0m\u001b[1;31m:\u001b[0m can't assign to literal\n"
     ]
    }
   ],
   "source": [
    "100 = b'10010' # Invaild variable assignmnet"
   ]
  },
  {
   "cell_type": "markdown",
   "metadata": {},
   "source": [
    "***"
   ]
  },
  {
   "cell_type": "markdown",
   "metadata": {},
   "source": [
    "**Question 09**\n",
    "\n",
    "#### What three functions can be used to get the integer, floating-point number, or string version of a value?\n",
    "\n",
    "--\n",
    "\n",
    "The Python in-build functions that can be used to convert the integer, floating-point number, and string data-types are:\n",
    "``int()`` ``float()`` ``str()`` respectively.\n",
    "They take input of value or variable to convert to desired form. For example↴\n"
   ]
  },
  {
   "cell_type": "code",
   "execution_count": 11,
   "metadata": {},
   "outputs": [
    {
     "data": {
      "text/plain": [
       "1"
      ]
     },
     "execution_count": 11,
     "metadata": {},
     "output_type": "execute_result"
    }
   ],
   "source": [
    "int(1.1)"
   ]
  },
  {
   "cell_type": "code",
   "execution_count": 12,
   "metadata": {},
   "outputs": [
    {
     "data": {
      "text/plain": [
       "3.142857142857143"
      ]
     },
     "execution_count": 12,
     "metadata": {},
     "output_type": "execute_result"
    }
   ],
   "source": [
    "float(22/7)"
   ]
  },
  {
   "cell_type": "code",
   "execution_count": 13,
   "metadata": {},
   "outputs": [
    {
     "data": {
      "text/plain": [
       "'(1+5j)'"
      ]
     },
     "execution_count": 13,
     "metadata": {},
     "output_type": "execute_result"
    }
   ],
   "source": [
    "str(x)"
   ]
  },
  {
   "cell_type": "markdown",
   "metadata": {},
   "source": [
    "***"
   ]
  },
  {
   "cell_type": "markdown",
   "metadata": {},
   "source": [
    "**Question 10**\n",
    "\n",
    "#### Why does this expression cause an error? How can you fix it?\n",
    "\n",
    "``'I have eaten ' + 99 + ' burritos.'``\n",
    "\n",
    "--\n",
    "\n",
    "The following code contains multiple data-types. To print the values, the data-type must be an a single format (either in `int` or `str`). For the following code, to print integer in the middle of the string, we can make use of a built-in function `str()` to convert integer to string. As shown below↴"
   ]
  },
  {
   "cell_type": "code",
   "execution_count": 14,
   "metadata": {},
   "outputs": [
    {
     "name": "stdout",
     "output_type": "stream",
     "text": [
      "I have eaten 99 burritos.\n"
     ]
    }
   ],
   "source": [
    "print('I have eaten ' + str(99) + ' burritos.')"
   ]
  },
  {
   "cell_type": "markdown",
   "metadata": {},
   "source": [
    "***"
   ]
  }
 ],
 "metadata": {
  "kernelspec": {
   "display_name": "Python 3",
   "language": "python",
   "name": "python3"
  },
  "language_info": {
   "codemirror_mode": {
    "name": "ipython",
    "version": 3
   },
   "file_extension": ".py",
   "mimetype": "text/x-python",
   "name": "python",
   "nbconvert_exporter": "python",
   "pygments_lexer": "ipython3",
   "version": "3.7.4"
  }
 },
 "nbformat": 4,
 "nbformat_minor": 4
}
